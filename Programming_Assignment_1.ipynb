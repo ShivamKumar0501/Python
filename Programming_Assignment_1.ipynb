{
 "cells": [
  {
   "cell_type": "markdown",
   "id": "517c2a49",
   "metadata": {},
   "source": [
    "# 1. Write a Python program to print \" Hello Python \" ?"
   ]
  },
  {
   "cell_type": "code",
   "execution_count": 1,
   "id": "372de901",
   "metadata": {},
   "outputs": [
    {
     "name": "stdout",
     "output_type": "stream",
     "text": [
      "Hello Python\n"
     ]
    }
   ],
   "source": [
    "print(\"Hello Python\")"
   ]
  },
  {
   "cell_type": "markdown",
   "id": "9e436265",
   "metadata": {},
   "source": [
    "# 2. Write a Python program to do arithmetical operations addition and division.?"
   ]
  },
  {
   "cell_type": "markdown",
   "id": "e60a9164",
   "metadata": {},
   "source": [
    "Taking value of variable from own "
   ]
  },
  {
   "cell_type": "code",
   "execution_count": 2,
   "id": "a038e31c",
   "metadata": {},
   "outputs": [
    {
     "name": "stdout",
     "output_type": "stream",
     "text": [
      "15\n",
      "2.0\n"
     ]
    }
   ],
   "source": [
    "a = 10\n",
    "b = 5 \n",
    "print(a+b)\n",
    "print(a/b)"
   ]
  },
  {
   "cell_type": "markdown",
   "id": "f8c122f1",
   "metadata": {},
   "source": [
    "Taking Values from User"
   ]
  },
  {
   "cell_type": "code",
   "execution_count": 4,
   "id": "0a1c7f3d",
   "metadata": {},
   "outputs": [
    {
     "name": "stdout",
     "output_type": "stream",
     "text": [
      "Enter First Integer : 15\n",
      "Enter Second Integer : 5\n",
      "20\n",
      "3.0\n"
     ]
    }
   ],
   "source": [
    "a = int(input(\"Enter First Integer : \"))\n",
    "b = int(input(\"Enter Second Integer : \"))\n",
    "print(a+b)\n",
    "print(a/b)"
   ]
  },
  {
   "cell_type": "markdown",
   "id": "d94b2f57",
   "metadata": {},
   "source": [
    "# 3. Write a Python program to find the area of a triangle?"
   ]
  },
  {
   "cell_type": "markdown",
   "id": "133dec96",
   "metadata": {},
   "source": [
    "Area of a Triangle = 0.5 * base * height"
   ]
  },
  {
   "cell_type": "code",
   "execution_count": 5,
   "id": "d637129a",
   "metadata": {},
   "outputs": [
    {
     "name": "stdout",
     "output_type": "stream",
     "text": [
      "Please Enter the base of a Triangle : 5\n",
      "Please Enter the Height of a Triangle : 4\n",
      "Area of a Triangle is  10.0\n"
     ]
    }
   ],
   "source": [
    "Base = input(\"Please Enter the base of a Triangle : \")\n",
    "Height = input(\"Please Enter the Height of a Triangle : \")\n",
    "Area = 0.5 * int(Base) * int(Height)\n",
    "print(\"Area of a Triangle is \",Area)"
   ]
  },
  {
   "cell_type": "markdown",
   "id": "eceae208",
   "metadata": {},
   "source": [
    "# 4. Write a Python program to swap two variables?"
   ]
  },
  {
   "cell_type": "markdown",
   "id": "117eed81",
   "metadata": {},
   "source": [
    "Using Temporary Variable "
   ]
  },
  {
   "cell_type": "code",
   "execution_count": 12,
   "id": "8c9cb948",
   "metadata": {},
   "outputs": [
    {
     "name": "stdout",
     "output_type": "stream",
     "text": [
      "a =  10\n",
      "b =  20\n",
      "\n",
      "a =  20\n",
      "b =  10\n"
     ]
    }
   ],
   "source": [
    "a = 10\n",
    "b = 20\n",
    "\n",
    "# Values before Swap\n",
    "print(\"a = \",a)\n",
    "print(\"b = \",b)\n",
    "\n",
    "temp = a\n",
    "\n",
    "a = b\n",
    "b = temp\n",
    "\n",
    "\n",
    "# Values After Swap\n",
    "print(\"\\na = \",a)\n",
    "print(\"b = \",b)"
   ]
  },
  {
   "cell_type": "markdown",
   "id": "a33ab667",
   "metadata": {},
   "source": [
    "Without Using Temporary Variable"
   ]
  },
  {
   "cell_type": "code",
   "execution_count": 14,
   "id": "6bf25967",
   "metadata": {},
   "outputs": [
    {
     "name": "stdout",
     "output_type": "stream",
     "text": [
      "a =  30\n",
      "b =  40\n",
      "\n",
      "a =  40\n",
      "b =  30\n"
     ]
    }
   ],
   "source": [
    "a = 30\n",
    "b = 40\n",
    "\n",
    "# Values before Swap\n",
    "print(\"a = \",a)\n",
    "print(\"b = \",b)\n",
    "\n",
    "a = a + b\n",
    "b = a - b\n",
    "a = a - b\n",
    "\n",
    "\n",
    "# Values After Swap\n",
    "print(\"\\na = \",a)\n",
    "print(\"b = \",b)"
   ]
  },
  {
   "cell_type": "markdown",
   "id": "63f86ef4",
   "metadata": {},
   "source": [
    "# 5. Write a Python program to generate a random number?"
   ]
  },
  {
   "cell_type": "code",
   "execution_count": 15,
   "id": "96c70714",
   "metadata": {},
   "outputs": [],
   "source": [
    "import random"
   ]
  },
  {
   "cell_type": "code",
   "execution_count": 17,
   "id": "17b08b5f",
   "metadata": {},
   "outputs": [
    {
     "name": "stdout",
     "output_type": "stream",
     "text": [
      "0.18631933885787133\n"
     ]
    }
   ],
   "source": [
    "rand = random.random()\n",
    "print(rand)"
   ]
  },
  {
   "cell_type": "code",
   "execution_count": null,
   "id": "21e4d5ef",
   "metadata": {},
   "outputs": [],
   "source": []
  }
 ],
 "metadata": {
  "kernelspec": {
   "display_name": "Python 3 (ipykernel)",
   "language": "python",
   "name": "python3"
  },
  "language_info": {
   "codemirror_mode": {
    "name": "ipython",
    "version": 3
   },
   "file_extension": ".py",
   "mimetype": "text/x-python",
   "name": "python",
   "nbconvert_exporter": "python",
   "pygments_lexer": "ipython3",
   "version": "3.9.12"
  }
 },
 "nbformat": 4,
 "nbformat_minor": 5
}
